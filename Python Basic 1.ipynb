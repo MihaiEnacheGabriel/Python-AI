{
 "cells": [
  {
   "cell_type": "markdown",
   "id": "84358d95",
   "metadata": {},
   "source": [
    "# Laborator 2 - tema 1"
   ]
  },
  {
   "cell_type": "markdown",
   "id": "f8755bcc",
   "metadata": {},
   "source": [
    "## Context\n",
    "\n",
    "Precizari:\n",
    "\n",
    "1. Studentii se pot consulta reciproc, dar rezolvarile vor fi individuale. Daca la o problema nu se pot furniza explicatii legate de rezolvare, nota pentru intreaga tema va fi 1.\n",
    "1. Temele se predau in activitatea de elearning asociata, pana in 13 martie ora 23. Se acorda 2 puncte din oficiu.\n",
    "1. Tema va fi implementata intr-un singur fisier Jupyter Notebook, avand numele: Tema1_IA_nume_prenume.ipynb. Exemplu: Tema1_IA_Popescu_Ioana.ipynb\n",
    "1. Se vor folosi type annotations pentru variabile, parametrii functiilor, tipuri de retur. Se vor scrie docstrings pentru functii, in limba romana sau engleza. Neindeplinirea acestei cerinte duce la injumatatirea punctajului pe exercitiul in cauza."
   ]
  },
  {
   "cell_type": "markdown",
   "id": "abb52198",
   "metadata": {},
   "source": [
    "## Exercitii"
   ]
  },
  {
   "cell_type": "markdown",
   "id": "db4cb505",
   "metadata": {},
   "source": [
    "1. (1 p). Se da o lista `lista` de numere intregi si pozitive. Sa se scrie o functie care determina daca un umar este palindrom si sa se foloseasca pentru a produce doua liste: una cu numere de tip palindrom si alta cu restul, in ordinea in care sunt in lista initiala.\n",
    "\n",
    "Exemplu:"
   ]
  },
  {
   "cell_type": "code",
   "execution_count": 50,
   "id": "98bf30f1",
   "metadata": {
    "ExecuteTime": {
     "end_time": "2022-10-10T12:51:26.378377Z",
     "start_time": "2022-10-10T12:51:26.365358Z"
    }
   },
   "outputs": [
    {
     "name": "stdout",
     "output_type": "stream",
     "text": [
      "[1, 22, 454]\n",
      "[10, 45, 455]\n"
     ]
    }
   ],
   "source": [
    "from typing import List\n",
    "lista = [1, 10, 22, 45, 454, 455]\n",
    "\n",
    "\"\"\"\n",
    "Se verifica daca un numar dat din lista este palindrom. Daca da, este adaugat\n",
    "in lista_palindroame. Daca nu, este adaugat in lista_non_palindroame\n",
    "\"\"\"\n",
    "\n",
    "def is_pal(number: int) -> bool:\n",
    "    \"\"\"\n",
    "    functia verifica daca un numar e palindrom parcurgand simultan de la\n",
    "    stanga la dreapta si de la dreapta la stanga varianta convertita in string\n",
    "    :param number: numarul ce trebuie verificat\n",
    "    :return: true daca este palindrom, false daca nu\n",
    "    \"\"\"\n",
    "    if str(number) == str(number)[::-1]:\n",
    "        return True\n",
    "    return False\n",
    "\n",
    "lista_palindroame:List[int] = []\n",
    "lista_non_palindroame:List[int] = []\n",
    "\n",
    "for number in lista:\n",
    "    if is_pal(number) == True:\n",
    "        lista_palindroame.append(number)\n",
    "    else:\n",
    "        lista_non_palindroame.append(number)\n",
    "\n",
    "print(lista_palindroame)\n",
    "print(lista_non_palindroame)\n",
    "\n",
    "assert lista_palindroame == [1, 22, 454]\n",
    "assert lista_non_palindroame == [10, 45, 455]"
   ]
  },
  {
   "cell_type": "markdown",
   "id": "3be6a879",
   "metadata": {},
   "source": [
    "Pentru exemplele proprii adaptati in mod corespunzator cele doua asertiuni."
   ]
  },
  {
   "cell_type": "markdown",
   "id": "4d5adda5",
   "metadata": {},
   "source": [
    "2. (1 p)  Se da o lista de stringuri. Se cere eliminarea duplicatelor, dar cu pastrarea ordinii initiale.  \n",
    "\n",
    "Exemplu:"
   ]
  },
  {
   "cell_type": "code",
   "execution_count": 52,
   "id": "bbb6bcc0",
   "metadata": {
    "ExecuteTime": {
     "end_time": "2022-10-10T13:25:45.895981Z",
     "start_time": "2022-10-10T13:25:45.869948Z"
    }
   },
   "outputs": [
    {
     "name": "stdout",
     "output_type": "stream",
     "text": [
      "['ana', 'george', 'andrei', 'dana', 'maria', 'marian']\n"
     ]
    }
   ],
   "source": [
    "\"\"\"\n",
    "Se itereaza prin a_list, iar daca nu s-a gasit un cuvant in lista noua, inseamna\n",
    "ca este prima data cand este introdus, asa ca este adaugat.\n",
    "\"\"\"\n",
    "\n",
    "a_list:List[str] = ['ana', 'george', 'andrei', 'dana', 'maria', 'ana', 'ana', 'andrei', 'marian', 'marian']\n",
    "\n",
    "deduped_list:List[str] = []\n",
    "\n",
    "for word in a_list:\n",
    "    if word not in deduped_list:\n",
    "        deduped_list.append(word)\n",
    "\n",
    "print(deduped_list)\n",
    "\n",
    "assert deduped_list == ['ana', 'george', 'andrei', 'dana', 'maria', 'marian']"
   ]
  },
  {
   "cell_type": "markdown",
   "id": "cb4f8ca8",
   "metadata": {},
   "source": [
    "3. (1 p) Sa se scrie o functie care primeste o lista de numere si returneaza cea mai lunga subsecventa strict descrescatoare, impreuna cu indicii de inceput si de sfarsit din lista originara.  \n",
    "\n",
    "Exemplu:"
   ]
  },
  {
   "cell_type": "code",
   "execution_count": 57,
   "id": "1e26972f",
   "metadata": {
    "ExecuteTime": {
     "end_time": "2022-10-10T13:29:29.760480Z",
     "start_time": "2022-10-10T13:29:29.752346Z"
    }
   },
   "outputs": [],
   "source": [
    "\n",
    "from typing import List, Tuple\n",
    "\n",
    "\n",
    "lista_numere = [90, 80, 85, 80, 60, 40, 30, 30, 20, 0]\n",
    "\n",
    "def secventa_descrescatoare_maximala(lista: List[int]) -> Tuple[List[int], int, int]:\n",
    "    \"\"\"\n",
    "    Se parcurge lista de la 1 la lungimea maxima a listei astfel incat\n",
    "    se compara elementele doua cate doua pentru a verifica daca formeaza\n",
    "    o secventa descrescatoare. In caz afirmativ, se creste lungimea curenta\n",
    "    (current_length) pana la caz contrar. Cand s-a finalizat formarea\n",
    "    lungimii curente, se compara aceasta cu maximum_length. Daca este mai mare,\n",
    "    se seteaza start-ul, end-ul si lungimea noii secvente maxime. Lungimea curenta\n",
    "    se reseteaza la 1.\n",
    "    La final se mai verifica inca o data toate cele de mai sus, in cazul in care\n",
    "    secventa maxima se afla chiar la finalul listei.\n",
    "    :param lista: lista de numere data\n",
    "    :return: se returneaza secventa descrescatoare maxima urmata de punctul de\n",
    "             inceput si de final al ei\n",
    "    \"\"\"\n",
    "    maximum_length:int = 0\n",
    "    start:int = 0\n",
    "    end:int = 0\n",
    "    current_start:int = 0\n",
    "    current_length:int = 0\n",
    "    \n",
    "    for number in range(1, len(lista)):\n",
    "        if lista[number] < lista[number - 1]:\n",
    "            current_length += 1\n",
    "        else:\n",
    "            if current_length > maximum_length:\n",
    "                maximum_length = current_length\n",
    "                start = current_start\n",
    "                end = number - 1\n",
    "            current_length = 1\n",
    "            current_start = number\n",
    "    if current_length > maximum_length:\n",
    "        maximum_length = current_length\n",
    "        start = current_start\n",
    "        end = len(lista) - 1\n",
    "    return lista[start:end+1], start, end\n",
    "\n",
    "assert secventa_descrescatoare_maximala(lista_numere) == ([85, 80, 60, 40, 30], 2, 6)"
   ]
  },
  {
   "cell_type": "markdown",
   "id": "6bc59854",
   "metadata": {},
   "source": [
    "4. (1 p) Scrieti o functie care primeste un string compus din cuvinte separate prin caracterul ':' si returneaza un string cu aceleasi cuvinte, fara duplicate, in ordine alfabetica, separate prin '-'."
   ]
  },
  {
   "cell_type": "code",
   "execution_count": 60,
   "id": "f6b827d3",
   "metadata": {
    "ExecuteTime": {
     "end_time": "2022-10-10T13:46:49.198478Z",
     "start_time": "2022-10-10T13:46:49.177601Z"
    }
   },
   "outputs": [
    {
     "name": "stdout",
     "output_type": "stream",
     "text": [
      "ana-andrei-dana-george-maria-marian\n"
     ]
    }
   ],
   "source": [
    "grupa = 'ana:george:andrei:dana:maria:ana:ana:andrei:marian:marian'\n",
    "\n",
    "def dedupe_reformulate(sir: str) -> str:\n",
    "    \"\"\"\n",
    "    Functia separa cuvintele dupa \":\", apoi le sorteaza alfabetic\n",
    "    se introduce fiecare cuvant o singura data. se converteste deduped_list\n",
    "    din list[str] in str folosind join cu simbolul \"-\".\n",
    "    :param sir: sirul ce trebuie modificat\n",
    "    :return: sirul modificat\n",
    "    \"\"\"\n",
    "    words:str = sorted(sir.split(\":\"))\n",
    "    deduped_list:List[str] = []\n",
    "    for word in words:\n",
    "        if word not in deduped_list:\n",
    "            deduped_list.append(word)\n",
    "    deduped_list:str = \"-\".join(deduped_list)\n",
    "    return deduped_list\n",
    "\n",
    "\n",
    "\n",
    "reformulat:str = dedupe_reformulate(grupa)\n",
    "print(reformulat)\n",
    "assert 'ana-andrei-dana-george-maria-marian' == reformulat, f'Eroare, s-a obtinut {reformulat}'"
   ]
  },
  {
   "cell_type": "markdown",
   "id": "943cfe97",
   "metadata": {},
   "source": [
    "5. (1p) Se da un dictionar in care cheile sunt nume de studenti, iar valorile sunt liste de carti preferate. Sa se determine:\n",
    "    1. Care sunt studentii care au in lista de preferinte o carte specificata?\n",
    "    2. Care sunt perechile de studenti care au aceleasi preferinte de carti (ordinea in lista de preferinte nu e relevanta)\n",
    "    3. Pentru un student dat, care sunt studentii cu care are cele mai multe carti comune in liste de preferinte; daca sunt mai multi astfel de studenti cei mai apropiati, se vor enumera toti.\n",
    "    4. Pentru doi studenti, A si B, care e lista de stergeri si adaugari prin care lista lui A devine identica cu lista lui B (ordinea in lista nefiind importanta)\n",
    "    5. Toate perechile de studenti A, B pentru care lista de preferinte a lui A este inclusa in (dar nu coincide cu) lista de preferinte a lui B. \n",
    "    \n",
    "Indicatie: considerati tipul de date `set`.\n",
    "\n",
    "Exemplu:\n",
    "```python\n",
    "preferinte = {\n",
    "    'Popescu': ['carte2', 'carte1', 'carte3', 'carte4'],\n",
    "    'Ionescu': ['carte1', 'carte2', 'carte3', 'carte7', 'alta carte'],\n",
    "    'Georgescu': ['carte1', 'alta carte'],\n",
    "    'Xulescu': ['carte2', 'carte5', 'carte6', 'carte7'],\n",
    "    'Dragomir': ['carte4', 'carte1', 'carte2', 'carte3']\n",
    "}\n",
    "```\n",
    "    1. carte = 'alta carte' -> ['Ionescu', 'Georgescu']\n",
    "    2. Popescu si Dragomir au aceleasi preferinte: ['carte2', 'carte1', 'carte3', 'carte4']. Se remarca faptul ca nu se afiseaza si perechea echivalenta: Dragomir si Popescu.\n",
    "    3. Xulescu -> Suprapunere maxima de preferinte: 2 cu colegii: ['Ionescu']\n",
    "    4. A='Popescu', B='Ionescu' -> Se vor adauga cartile: {'carte7', 'alta carte'}, se vor scoate cartile: {'carte4'}\n",
    "    5. Preferintele lui Georgescu sunt subset propriu al preferintelor lui Ionescu"
   ]
  },
  {
   "cell_type": "code",
   "execution_count": 66,
   "id": "76ef9115",
   "metadata": {},
   "outputs": [
    {
     "name": "stdout",
     "output_type": "stream",
     "text": [
      "A. carte = alta carte -> ['Ionescu', 'Georgescu']\n",
      "\n",
      "B. Dragomir si Dragomir au aceleasi preferinte: ['carte4', 'carte1', 'carte2', 'carte3']. Se remarca faptul ca nu se afiseaza si perechea echivalenta: Dragomir si Dragomir.\n",
      "\n",
      "D. A='Popescu', B='Ionescu' -> Se vor adauga cartile: {'carte7', 'alta carte'}, se vor scoate cartile: {'carte4'}\n"
     ]
    }
   ],
   "source": [
    "from typing import Dict, List\n",
    "\n",
    "preferinte: Dict[str, List[str]] = {\n",
    "    'Popescu': ['carte2', 'carte1', 'carte3', 'carte4'],\n",
    "    'Ionescu': ['carte1', 'carte2', 'carte3', 'carte7', 'alta carte'],\n",
    "    'Georgescu': ['carte1', 'alta carte'],\n",
    "    'Xulescu': ['carte2', 'carte5', 'carte6', 'carte7'],\n",
    "    'Dragomir': ['carte4', 'carte1', 'carte2', 'carte3']\n",
    "}\n",
    "#A\n",
    "def studenti_cu_carte_data(carte_cautata:str) -> str:\n",
    "    return f\"A. carte = {carte_cautata} -> {[student for student, carti in preferinte.items() if carte_cautata in carti]}\"\n",
    "\n",
    "#B\n",
    "def perechi_preferinte_identice() -> str:\n",
    "    perechi:List[str] = []\n",
    "    for student1, carti1 in preferinte.items():\n",
    "        for student2, carti2 in preferinte.items():\n",
    "            if student1 != student2:\n",
    "                if set(carti1) == set(carti2):\n",
    "                    if (student2, student1) not in perechi:\n",
    "                        perechi.append((student1, student2))\n",
    "    return f\"B. {student1} si {student2} au aceleasi preferinte: {carti1}. Se remarca faptul ca nu se afiseaza si perechea echivalenta: {student2} si {student1}.\"\n",
    "\n",
    "#D\n",
    "def modificari_liste(A:str, B:str) -> str:\n",
    "    carti1:set(str) = set(preferinte[A])\n",
    "    carti2:set(str) = set(preferinte[B])\n",
    "    de_sters:set(str) = carti1 - carti2\n",
    "    de_adaugat:set(str) = carti2 - carti1\n",
    "    return f\"D. A='{A}', B='{B}' -> Se vor adauga cartile: {de_adaugat}, se vor scoate cartile: {de_sters}\"\n",
    "\n",
    "print(studenti_cu_carte_data(\"alta carte\"))\n",
    "print()\n",
    "print(perechi_preferinte_identice())\n",
    "print()\n",
    "print(modificari_liste(\"Popescu\", \"Ionescu\"))"
   ]
  },
  {
   "cell_type": "markdown",
   "id": "a266b926",
   "metadata": {},
   "source": [
    "6 (1p). Sa se scrie o functie `sum_divisors_digits`care preia un numar natural strict pozitiv $n$ si returneaza un numar format din: cate cifre are are $n$, cate cifre impare are $n$ si suma celor doua numere. De exemplu, pentru $n$=345 returneaza numarul 123; pentru $n=77$ se returneaza 22.\n",
    "\n",
    "Se va apela in mod repetat functia pentru un $n$ initial, apoi pentru rezultatul dat etc. pana cand se produce numarul 123. Numarul 123 este punct fix, deoarece `sum_divisors_digits(123)=123`. Pentru toate numerele de la 1 la $n$ sa se afiseze succesiunea de numere produse, despartite prin '->'. \n",
    "\n",
    "Exemplu: \n",
    "* n=345 va produce 345->123\n",
    "* n=77 va produce 77->22->202->303->123\n",
    "\n"
   ]
  },
  {
   "cell_type": "code",
   "execution_count": 67,
   "id": "b4f90a66",
   "metadata": {},
   "outputs": [
    {
     "name": "stdout",
     "output_type": "stream",
     "text": [
      "77->22->202->303->123\n"
     ]
    }
   ],
   "source": [
    "def sum_divisors_digits(n:int) -> int:\n",
    "    \"\"\"\n",
    "    functia numara cate cifre pare si impare sunt intr-un numar dat si\n",
    "    creeaza un numar nou conform cerintei\n",
    "    :param n: numarul ce urmeaza a fi modificat conform cerintei\n",
    "    :return: numarul modificat\n",
    "    \"\"\"\n",
    "    even_digits_number:int = 0\n",
    "    odd_digits_number:int = 0\n",
    "    while n > 0:\n",
    "        if n%2 == 0:\n",
    "            even_digits_number+=1\n",
    "        if n%2 == 1:\n",
    "            odd_digits_number+=1\n",
    "        n = n//10\n",
    "    new_number:int = 100 * even_digits_number + 10 * odd_digits_number + odd_digits_number + even_digits_number\n",
    "    return new_number\n",
    "\n",
    "\n",
    "def numbers(n:int) -> str:\n",
    "    \"\"\"\n",
    "    se creeaza un string cu sirul de rezultate ale apelarii repetitive\n",
    "    a functiei sum_divisors_digits\n",
    "    :param n: numarul ce trebuie modificat \n",
    "    :return: string-ul cu rezultatul\n",
    "    \"\"\"\n",
    "    result:str = str(n)\n",
    "    while n != 123:\n",
    "        n = sum_divisors_digits(n)\n",
    "        result += '->' + str(n)\n",
    "    return result\n",
    "\n",
    "print(numbers(77))"
   ]
  },
  {
   "cell_type": "markdown",
   "id": "7dec96a8-39d7-4096-81e3-8e3feb306993",
   "metadata": {
    "ExecuteTime": {
     "end_time": "2022-10-10T14:04:46.244593Z",
     "start_time": "2022-10-10T14:04:46.234599Z"
    }
   },
   "source": [
    "7 (1p). [Conjectura lui Collatz](https://en.wikipedia.org/wiki/Collatz_conjecture) afirma ca orice numar natural pozitiv $n$ poate transformat in 1 prin aplicarea repetata a unei functii. Numarul $n$ se modifica astfel:\n",
    "$$\n",
    "n \\rightarrow f(n) =  \\begin{cases}\n",
    "n/2 & \\text{dacă } n \\text{ este par}\n",
    "\\\\\n",
    "3\\cdot n+1 & \\text{altfel}\n",
    "\\end{cases}\n",
    "$$\n",
    "\n",
    "Prin aplicarea repetata a lui $f$ pe valoarea lui $n$ se obtine dupa un numar finit de pasi valoarea 1. \n",
    "\n",
    "Exemplu: $n=10$ -> 5 -> 16 -> 8 -> 4 -> 2 -> 1. \n",
    "\n",
    "Sa se scrie o functie care preia un numar natural $n$ si scrie secventa de transformari prin care se ajunge la 1. Sa se foloseasca aceasta functie pentru toate numerele de la 1 la k, k dat. "
   ]
  },
  {
   "cell_type": "code",
   "execution_count": 68,
   "id": "c3254dcb",
   "metadata": {},
   "outputs": [
    {
     "name": "stdout",
     "output_type": "stream",
     "text": [
      "1\n",
      "\n",
      "2->1.0\n",
      "\n",
      "3->10->5.0->16.0->8.0->4.0->2.0->1.0\n",
      "\n",
      "4->2.0->1.0\n",
      "\n",
      "5->16->8.0->4.0->2.0->1.0\n",
      "\n",
      "6->3.0->10.0->5.0->16.0->8.0->4.0->2.0->1.0\n",
      "\n",
      "7->22->11.0->34.0->17.0->52.0->26.0->13.0->40.0->20.0->10.0->5.0->16.0->8.0->4.0->2.0->1.0\n",
      "\n",
      "8->4.0->2.0->1.0\n",
      "\n",
      "9->28->14.0->7.0->22.0->11.0->34.0->17.0->52.0->26.0->13.0->40.0->20.0->10.0->5.0->16.0->8.0->4.0->2.0->1.0\n",
      "\n",
      "10->5.0->16.0->8.0->4.0->2.0->1.0\n",
      "\n"
     ]
    }
   ],
   "source": [
    "def functie(n:int) -> str:\n",
    "    \"\"\"\n",
    "    functia creeaza un string result in care se formeaza lista de numere formate\n",
    "    in urma aplicarii operatiilor date mai sus de f(n)\n",
    "    :param n: numarul de la care se pornesc operatiile\n",
    "    :return: string ce reprezinta tot sirul de rezultate ale aplicarii\n",
    "             repetitive ale operatiilor\n",
    "    \"\"\"\n",
    "    result:str = str(n)\n",
    "    while n != 1:\n",
    "        if n%2 == 0:\n",
    "            n = n/2\n",
    "        else: \n",
    "            n = 3*n+1\n",
    "        result += '->' + str(n)\n",
    "    return result\n",
    "\n",
    "def repetition_until_k(k:int) -> None:\n",
    "    \"\"\"\n",
    "    functia apeleaza functie(i) in mod repetat, i reprezentant toate nr\n",
    "    luate de la 1 la k\n",
    "    :param k: numarul dat care reprezinta pe ce interval de numere se va\n",
    "              realiza repetarea functiei apelate\n",
    "    :return: functia nu returneaza nimic\n",
    "    \"\"\"\n",
    "    for i in range(1, k + 1):\n",
    "        print(functie(i))\n",
    "        print()\n",
    "        \n",
    "repetition_until_k(10)\n",
    "        "
   ]
  },
  {
   "cell_type": "markdown",
   "id": "6985ab8d-eb84-4f08-b5e5-5db62a597bbb",
   "metadata": {},
   "source": [
    "8 (1p). Pentru ridicarea la puterea $n$ a unui numar $a$ putem folosi formula recursiva:\n",
    "$$\n",
    "a^n = \\begin{cases}\n",
    "1 & \\text{daca }n=0\n",
    "\\\\\n",
    "(a^\\left[\\frac{n}{2}\\right])^2 & \\text{daca } n \\text{ e par}\n",
    "\\\\\n",
    "(a^\\left[\\frac{n}{2}\\right])^2 \\cdot a & \\text{daca } n \\text{ e impar}\n",
    "\\end{cases}\n",
    "$$\n",
    "\n",
    "Sa se scrie o functie recursiva care ridica un numar la o putere. "
   ]
  },
  {
   "cell_type": "code",
   "execution_count": 69,
   "id": "6cba56e9-c856-4cfe-97d3-0cdc4f78c6a9",
   "metadata": {},
   "outputs": [
    {
     "name": "stdout",
     "output_type": "stream",
     "text": [
      "1024\n",
      "1\n"
     ]
    }
   ],
   "source": [
    "def powers_function(a, n):\n",
    "    if n == 0:\n",
    "        return 1\n",
    "    elif n%2 == 0:\n",
    "        par = power(a, n//2)\n",
    "        return par*par\n",
    "    else:\n",
    "        impar = power(a, (n-1)//2)\n",
    "        return impar*impar*a\n",
    "\n",
    "print(powers_function(2, 10))\n",
    "print(powers_function(10, 0))\n",
    "assert power(2, 10) == 1024\n",
    "assert power(10, 0) == 1"
   ]
  },
  {
   "cell_type": "code",
   "execution_count": null,
   "id": "ab1cb3f6",
   "metadata": {},
   "outputs": [],
   "source": []
  }
 ],
 "metadata": {
  "kernelspec": {
   "display_name": "Python 3 (ipykernel)",
   "language": "python",
   "name": "python3"
  },
  "language_info": {
   "codemirror_mode": {
    "name": "ipython",
    "version": 3
   },
   "file_extension": ".py",
   "mimetype": "text/x-python",
   "name": "python",
   "nbconvert_exporter": "python",
   "pygments_lexer": "ipython3",
   "version": "3.11.5"
  },
  "notify_time": "5",
  "toc": {
   "base_numbering": 1,
   "nav_menu": {},
   "number_sections": true,
   "sideBar": true,
   "skip_h1_title": false,
   "title_cell": "Table of Contents",
   "title_sidebar": "Contents",
   "toc_cell": false,
   "toc_position": {},
   "toc_section_display": true,
   "toc_window_display": false
  },
  "varInspector": {
   "cols": {
    "lenName": 16,
    "lenType": 16,
    "lenVar": 40
   },
   "kernels_config": {
    "python": {
     "delete_cmd_postfix": "",
     "delete_cmd_prefix": "del ",
     "library": "var_list.py",
     "varRefreshCmd": "print(var_dic_list())"
    },
    "r": {
     "delete_cmd_postfix": ") ",
     "delete_cmd_prefix": "rm(",
     "library": "var_list.r",
     "varRefreshCmd": "cat(var_dic_list()) "
    }
   },
   "types_to_exclude": [
    "module",
    "function",
    "builtin_function_or_method",
    "instance",
    "_Feature"
   ],
   "window_display": false
  },
  "widgets": {
   "application/vnd.jupyter.widget-state+json": {
    "state": {},
    "version_major": 2,
    "version_minor": 0
   }
  }
 },
 "nbformat": 4,
 "nbformat_minor": 5
}
