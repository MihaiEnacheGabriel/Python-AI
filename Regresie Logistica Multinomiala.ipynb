{
 "cells": [
  {
   "cell_type": "code",
   "execution_count": 3,
   "id": "7fb7e1b0-4db7-47d6-9e70-18dfb633ad81",
   "metadata": {},
   "outputs": [
    {
     "name": "stdout",
     "output_type": "stream",
     "text": [
      "Using PyTorch version: 2.2.2+cpu  Device: cpu\n"
     ]
    }
   ],
   "source": [
    "import torch\n",
    "import torch.nn as nn\n",
    "import torch.nn.functional as F\n",
    "from torchvision import datasets, transforms\n",
    "\n",
    "import numpy as np\n",
    "import matplotlib.pyplot as plt\n",
    "\n",
    "if torch.cuda.is_available():\n",
    "    device = torch.device('cuda')\n",
    "else:\n",
    "    device = torch.device('cpu')\n",
    "    \n",
    "print('Using PyTorch version:', torch.__version__, ' Device:', device)"
   ]
  },
  {
   "cell_type": "code",
   "execution_count": 4,
   "id": "548cdb45",
   "metadata": {},
   "outputs": [],
   "source": [
    "from torchinfo import summary"
   ]
  },
  {
   "cell_type": "code",
   "execution_count": 5,
   "id": "a6aa0475",
   "metadata": {},
   "outputs": [],
   "source": [
    "from torch.utils.data import Dataset\n",
    "# pentru citire de fisier cvs, verificare cai etc:\n",
    "import pandas as pd\n",
    "import os\n",
    "from typing import Tuple\n",
    "class MNISTDataset(Dataset):\n",
    "    def __init__(self, path_csv: str):\n",
    "        \"\"\"\n",
    "        Initializeaza setul de date, folosind o cale catre fisier csv si indicatie despre clasa pozitiva si negativa\n",
    "        :param path_csv: cale catre fisier CSV care contine date de train sau test\n",
    "        \"\"\"\n",
    "        # pt clasa derivata se obisnuieste apelul de initializator de clasa parinte \n",
    "        super().__init__()\n",
    "        assert os.path.exists(path_csv) and os.path.isfile(path_csv), f'Calea {path_csv} nu indica spre un fisier'\n",
    "        self.path_csv = path_csv\n",
    "        \n",
    "        _all_digits = pd.read_csv(path_csv, header=None).values\n",
    "        # valorile de intrare in x, etichetele in y \n",
    "        _y = _all_digits[:, 0]\n",
    "        _x = _all_digits[:, 1:]\n",
    "        # valorile 0..255 din setul de intrare _x sunt scalate la 0..1\n",
    "        _x = _x / 255\n",
    "\n",
    "        self.x = _x\n",
    "        self.y = _y\n",
    "        \n",
    "        # convertim din numpy array in torch tensors:\n",
    "        self.x = torch.Tensor(self.x)\n",
    "        self.y = torch.Tensor(self.y)\n",
    "        \n",
    "    def __len__(self):\n",
    "        \"\"\"\n",
    "        Returneaza lungimea setului de date curent\n",
    "        :return: lungimea setului de date\n",
    "        \"\"\"\n",
    "        return len(self.y)\n",
    "    \n",
    "    def __getitem__(self, index: int) -> Tuple[torch.Tensor, torch.Tensor]:\n",
    "        \"\"\"\n",
    "        Returneaza perechea (intrare, eticheta_asociata) de pe pozitia :param index:\n",
    "        :param index: pozitia de pe care se returneaza vectorul si clasa lui\n",
    "        :return: pereche: vector de intarre de 784 de elemente, eticheta clasa 0 sau 1\n",
    "        \"\"\"\n",
    "        return self.x[index, :], self.y[index]\n",
    "\n",
    "train_ds = MNISTDataset('./data/mnist_train.csv')\n",
    "test_ds = MNISTDataset('./data/mnist_test.csv')\n",
    "\n",
    "assert len(train_ds) == 60000\n",
    "assert len(test_ds) == 10000"
   ]
  },
  {
   "cell_type": "code",
   "execution_count": 6,
   "id": "d7263bbf",
   "metadata": {},
   "outputs": [],
   "source": [
    "from torch.utils.data import DataLoader"
   ]
  },
  {
   "cell_type": "code",
   "execution_count": 7,
   "id": "fe549e8d",
   "metadata": {},
   "outputs": [
    {
     "name": "stdout",
     "output_type": "stream",
     "text": [
      "torch.Size([32, 784]) torch.Size([32])\n"
     ]
    }
   ],
   "source": [
    "batch_size = 32 # in functie de memoria disponibila pe GPU\n",
    "train_loader = DataLoader(train_ds, batch_size=batch_size, shuffle=True)\n",
    "test_loader = DataLoader(test_ds, batch_size=batch_size)\n",
    "\n",
    "# pentru primul minibatch tiparim 'shape'\n",
    "# datele de intrare ar tb sa fie un tensor de forma (batch_size x 784)\n",
    "# etichetele ar trebui sa fie un tensor de forma batch_size\n",
    "for data, label in train_loader:\n",
    "    print(data.shape, label.shape)\n",
    "    # print(data, label)\n",
    "    break\n",
    "    \n",
    "# restul de minibatchuri arata la fel, eventual exceptand ultimul minibatch"
   ]
  },
  {
   "cell_type": "code",
   "execution_count": 8,
   "id": "5e34cc5c",
   "metadata": {},
   "outputs": [],
   "source": [
    "class MultinomialLogisticRegression(nn.Module):\n",
    "    def __init__(self, input_size: int = 784, number_of_classes: int = 10):\n",
    "        \"\"\"\n",
    "        Initializarea unui obiect de tip LogisticRegression\n",
    "        :param input_size: dimensiunea unui vector de intrare. De ex, pt MINST este 784\n",
    "        \"\"\"\n",
    "        # pt clasa derivata se obisnuieste apelul de initializator de clasa parinte\n",
    "        super().__init__()\n",
    "        self.input_size = input_size\n",
    "        # initializam ponderile ca o matrice de input_size x 1 elemente aleatoare\n",
    "        # matrice = operator liniar\n",
    "        self.fully_connected = nn.Linear(input_size, number_of_classes, bias=True)\n",
    "\n",
    "    def forward(self, x):\n",
    "        # x este un minibatch de exemplu de forma 32x784 (ultimul minibatch poate avea mai putin de 32 de tensori)\n",
    "\n",
    "        # se propaga dinspre stratul de intrare spre primul strat ascuns\n",
    "        # aplicarea unei functii liniare este echivalenta cu inmulttirea unei matrice cu intrarea curenta\n",
    "        x = self.fully_connected(x)\n",
    "        \n",
    "        # se aplica functia logistic sigmoid pentru a obtine probabilitatea conditionata\n",
    "        # x = torch.sigmoid(x)\n",
    "        \n",
    "        return x"
   ]
  },
  {
   "cell_type": "code",
   "execution_count": 9,
   "id": "d2665f9c",
   "metadata": {},
   "outputs": [
    {
     "name": "stdout",
     "output_type": "stream",
     "text": [
      "MultinomialLogisticRegression(\n",
      "  (fully_connected): Linear(in_features=784, out_features=10, bias=True)\n",
      ")\n",
      "device=cpu\n"
     ]
    },
    {
     "data": {
      "text/plain": [
       "MultinomialLogisticRegression(\n",
       "  (fully_connected): Linear(in_features=784, out_features=10, bias=True)\n",
       ")"
      ]
     },
     "execution_count": 9,
     "metadata": {},
     "output_type": "execute_result"
    }
   ],
   "source": [
    "model = MultinomialLogisticRegression(input_size=784, number_of_classes = 10)\n",
    "\n",
    "print(model)\n",
    "\n",
    "summary(model)\n",
    "\n",
    "print(f'device={device}')\n",
    "\n",
    "model.to(device)"
   ]
  },
  {
   "cell_type": "code",
   "execution_count": 10,
   "id": "13014a6b",
   "metadata": {},
   "outputs": [
    {
     "name": "stdout",
     "output_type": "stream",
     "text": [
      "Predictii (probabilitati): tensor([[-2.6304e-02, -8.0826e-02, -3.1255e-02,  1.7739e-01,  6.9390e-02,\n",
      "         -5.9107e-02,  2.4816e-01, -1.5619e-01, -1.7174e-01, -1.8592e-01],\n",
      "        [-2.1999e-01,  4.6788e-02, -1.4614e-01, -3.3897e-02,  1.9148e-01,\n",
      "          4.8601e-03, -1.6312e-01,  2.0296e-01,  1.1574e-01,  3.2123e-01],\n",
      "        [-1.1955e-01, -2.2378e-01,  1.8845e-01,  1.6288e-01, -5.0845e-02,\n",
      "         -7.7294e-02, -1.0566e-01, -8.1791e-02, -2.2311e-01, -3.6653e-02],\n",
      "        [-3.2803e-02, -3.5221e-01,  1.9286e-01, -5.5283e-02, -4.7003e-02,\n",
      "          5.6073e-02, -5.7342e-01,  1.8341e-01,  3.9894e-01, -3.0800e-01],\n",
      "        [-7.9168e-02, -1.3262e-01, -4.6881e-02,  1.8725e-01, -2.2541e-02,\n",
      "         -1.8396e-01,  8.8251e-02,  5.3027e-03, -5.5390e-03,  1.9313e-01],\n",
      "        [ 7.7580e-02, -1.8621e-01,  4.5774e-02, -3.2072e-02, -8.9460e-02,\n",
      "         -2.4540e-01, -1.9260e-01, -1.3765e-02, -1.0083e-01, -2.0277e-01],\n",
      "        [-2.3834e-01, -2.7072e-01,  3.1256e-01,  2.5648e-01, -8.9184e-02,\n",
      "         -3.2434e-01, -2.1191e-01, -2.1491e-03,  5.5958e-02, -2.7213e-02],\n",
      "        [-6.7066e-02,  4.3888e-02, -1.3712e-03,  2.0595e-01,  4.5086e-02,\n",
      "         -1.6547e-01,  1.0794e-01,  1.3429e-01,  7.0058e-02, -6.5961e-02],\n",
      "        [ 8.8029e-02, -3.1321e-01,  3.0171e-02,  1.0253e-02,  3.3549e-02,\n",
      "         -1.3705e-01,  4.8144e-02, -6.8715e-02,  4.2365e-03, -2.8005e-02],\n",
      "        [ 6.8905e-02, -8.4623e-02, -1.0475e-01, -4.6859e-02, -1.1098e-01,\n",
      "         -1.7199e-01, -6.6418e-02,  1.6023e-01,  6.1350e-02, -8.2841e-02],\n",
      "        [-4.3151e-02, -1.0786e-01, -3.6051e-02,  4.7610e-02, -1.8395e-01,\n",
      "         -8.7214e-02, -1.1538e-01, -1.8040e-01,  9.8085e-02, -5.1616e-02],\n",
      "        [ 1.4624e-01, -3.0831e-01,  1.5579e-01,  2.3389e-01,  4.6338e-02,\n",
      "          7.0729e-02, -3.4911e-02, -9.3359e-03,  3.7070e-02, -1.1052e-01],\n",
      "        [ 1.1849e-01,  1.9466e-01,  1.0318e-01,  1.9535e-01,  1.6994e-01,\n",
      "         -1.1000e-01, -2.7169e-02,  9.1854e-02, -1.4058e-01, -1.8049e-02],\n",
      "        [-5.7349e-05,  1.0575e-01,  2.1218e-01,  1.7431e-01, -2.0264e-02,\n",
      "         -1.5366e-01,  4.6029e-02, -4.8482e-02,  1.5417e-01,  1.8802e-01],\n",
      "        [-2.4615e-02, -1.1129e-01, -4.1874e-02,  6.7990e-02,  1.0245e-01,\n",
      "         -3.7687e-01,  6.1656e-02,  1.3303e-01,  4.7639e-02,  9.9837e-03],\n",
      "        [-1.1566e-01,  9.0434e-02, -2.2549e-01, -9.0182e-02,  5.9799e-02,\n",
      "         -1.5196e-01, -3.4600e-01,  7.2751e-02,  3.5195e-02, -4.1068e-02],\n",
      "        [-6.6817e-02, -1.5072e-02,  4.4635e-02,  8.5250e-02,  1.5652e-01,\n",
      "         -1.9980e-01, -4.1118e-01,  3.6615e-01,  7.0148e-02,  1.0212e-01],\n",
      "        [-1.5102e-01,  1.6368e-01, -4.1532e-01,  8.2209e-02,  1.5983e-02,\n",
      "         -3.3974e-01, -4.2075e-01,  8.6293e-02,  1.1630e-01,  1.5581e-01],\n",
      "        [-2.1602e-01,  7.7855e-02,  2.0403e-01,  1.3399e-01,  1.8163e-02,\n",
      "         -2.5062e-01, -1.3711e-02, -1.2983e-01, -1.7006e-01, -9.6788e-03],\n",
      "        [ 1.9289e-01, -2.6759e-01, -1.2440e-02, -1.7478e-02, -1.6724e-01,\n",
      "         -2.6989e-01, -2.2872e-01, -9.8632e-03, -2.1014e-01, -1.7637e-01],\n",
      "        [-3.6795e-02, -4.1576e-01, -1.8971e-02,  1.0659e-01, -4.8824e-02,\n",
      "         -9.9079e-02, -1.1621e-01, -1.1541e-01,  2.9139e-01,  8.1010e-02],\n",
      "        [-1.8928e-02,  1.2496e-01, -7.8653e-02,  2.4509e-01, -6.0594e-02,\n",
      "         -4.6058e-02, -1.2956e-01, -1.1411e-01, -1.9077e-01,  9.7963e-02],\n",
      "        [ 1.5932e-01,  8.3576e-02,  1.7378e-01,  5.9033e-02,  4.6220e-02,\n",
      "          2.5909e-02,  4.3728e-02,  6.5778e-02,  7.9878e-02,  2.1583e-02],\n",
      "        [ 5.7883e-02,  8.6312e-02,  2.1485e-01,  1.4120e-01,  6.2834e-02,\n",
      "         -3.4598e-01,  3.4256e-01, -2.8634e-01,  1.7028e-01, -1.0674e-01],\n",
      "        [ 1.5344e-01, -9.0914e-02,  4.8009e-02,  3.3003e-01,  3.3136e-02,\n",
      "         -7.7871e-02, -1.5054e-02, -1.9725e-01,  2.2879e-02,  1.6523e-02],\n",
      "        [ 1.8782e-02,  3.0459e-01, -1.1927e-01,  2.6029e-01,  1.5008e-02,\n",
      "          2.0590e-01, -2.9256e-01,  6.9046e-02, -5.2777e-02,  6.8268e-02],\n",
      "        [-1.3691e-02, -1.1097e-01, -2.5769e-02,  2.1272e-01, -4.8767e-02,\n",
      "         -2.2836e-01,  1.1987e-01, -5.3615e-02,  2.9655e-01, -1.0477e-01],\n",
      "        [ 8.8885e-02, -2.7657e-01,  2.1611e-01,  3.0093e-01, -2.3831e-02,\n",
      "         -7.1674e-02, -1.9232e-02,  6.0764e-02,  3.7743e-01, -1.3232e-01],\n",
      "        [-1.2473e-02, -1.8163e-01,  8.2128e-02,  2.7470e-01, -1.6405e-01,\n",
      "          4.2499e-02, -7.2887e-02, -6.7198e-02, -3.0823e-02,  4.0119e-03],\n",
      "        [ 1.9697e-01, -3.1807e-01,  7.0115e-02,  1.9372e-01,  5.4323e-02,\n",
      "         -8.1652e-02, -1.0695e-01, -1.4586e-01,  2.0402e-01, -6.8132e-02],\n",
      "        [ 1.0313e-01, -1.7126e-01,  4.5130e-02,  4.3067e-01, -4.2945e-02,\n",
      "         -1.2990e-01, -4.7014e-02, -2.0105e-01,  1.4834e-02, -2.2291e-01],\n",
      "        [ 5.4380e-02,  9.0558e-02,  2.1486e-01,  3.4743e-01,  1.0644e-01,\n",
      "         -1.2323e-01, -2.1481e-01, -8.3680e-02, -1.6406e-02,  3.1565e-02]],\n",
      "       grad_fn=<SqueezeBackward0>)\n",
      "Cate clase au fost prezise corect:  tensor(3)\n"
     ]
    }
   ],
   "source": [
    "for x, y in train_loader:\n",
    "    # datele si modelul trebuie sa fie pe acelasi device, altfel calculele nu se pot efectua\n",
    "    x, y = x.to(device), y.to(device)\n",
    "    \n",
    "    # produce predictia, tensor plin cu probabilitati\n",
    "    y_hat = model(x).squeeze()\n",
    "    print(f'Predictii (probabilitati): {y_hat}')\n",
    "    \n",
    "    # daca probabilitatea conditionata este >= 0.5, atunci modelul prezice clasa pozitiva (1), altfel 0 \n",
    "    clase = torch.argmax(y_hat, axis = 1)\n",
    "    # clase e un vector de booleni; True = 1, False = 0\n",
    "    print('Cate clase au fost prezise corect: ', (clase == y).sum())\n",
    "    \n",
    "    # ne oprim dupa primul minibatch aici, e doar pentru a vedea cum arata predictiile facute de model\n",
    "    break "
   ]
  },
  {
   "cell_type": "code",
   "execution_count": 11,
   "id": "d4bee35f",
   "metadata": {},
   "outputs": [],
   "source": [
    "# dezactivam urmarirea automata a tensorilor pentru care se pot calcula gradienti:\n",
    "# gradientii sunt folositidoar la antrenare, nu si la testare\n",
    "@torch.no_grad()\n",
    "def test(model: nn.Module, loader: DataLoader, device: torch.device) -> float:\n",
    "    \"\"\"\n",
    "    Testeaza modelul pe datele furnizate de :param loader:\n",
    "    :param model: model de regresie logistica binara\n",
    "    :param loader: un dataloader care furnizeaza datele din setul peset care se testeaza\n",
    "    :param device: pe ce device se afla modelul (cpu, gpu, tpu etc)\n",
    "    :return: acuratetea de predictie\n",
    "    \"\"\"\n",
    "    # initializare valori pt statistica\n",
    "    correctly_classified = 0\n",
    "    total_items = 0\n",
    "    # cand se face testarea, modelul nu mai invata. El e trecut explicit in mod de testare\n",
    "    model.eval()\n",
    "    for x, y in loader:\n",
    "        # trecem datele din setul de testare pe acelasi device ca si modelul\n",
    "        x, y = x.to(device), y.to(device)\n",
    "        \n",
    "        # modelul prezice probabilitatile conditionate pentru minibatchul curent\n",
    "        y_hat = model(x).squeeze()\n",
    "        \n",
    "        # predictia e clasa pozitiva daca probabilitatea e >=0.5, altfel clasa negativa\n",
    "        predicted_class = torch.argmax(y_hat, axis = 1)\n",
    "        \n",
    "        correctly_classified += torch.sum(predicted_class == y)\n",
    "        total_items += len(x)\n",
    "    accuracy = correctly_classified / total_items\n",
    "    return accuracy.cpu().detach().item()"
   ]
  },
  {
   "cell_type": "markdown",
   "id": "d610ccd6",
   "metadata": {},
   "source": []
  },
  {
   "cell_type": "code",
   "execution_count": 12,
   "id": "5849ff55",
   "metadata": {},
   "outputs": [
    {
     "name": "stdout",
     "output_type": "stream",
     "text": [
      "Acuratetea modelului neantrenat: 11.760000139474869%\n"
     ]
    }
   ],
   "source": [
    "acc = test(model, test_loader, device)\n",
    "print(f'Acuratetea modelului neantrenat: {acc * 100}%')\n",
    "\n",
    "optimizer = torch.optim.SGD(model.parameters(), lr=0.1, weight_decay=1e-3)\n",
    "\n",
    "# definim functia de eroare, binary cross entropy loss\n",
    "loss_fn = torch.nn.CrossEntropyLoss()\n",
    "\n",
    "# numarul de epoci\n",
    "epochs = 30"
   ]
  },
  {
   "cell_type": "code",
   "execution_count": 13,
   "id": "dd843109",
   "metadata": {},
   "outputs": [
    {
     "name": "stdout",
     "output_type": "stream",
     "text": [
      "Epoca: 1/30: loss = 0.4185592\n",
      "Epoca: 1/30: acuratete pe setul de testare = 91.0300%\n",
      "\n",
      "Epoca: 2/30: loss = 0.3236097\n",
      "Epoca: 2/30: acuratete pe setul de testare = 91.5300%\n",
      "\n",
      "Epoca: 3/30: loss = 0.3099811\n",
      "Epoca: 3/30: acuratete pe setul de testare = 91.9500%\n",
      "\n",
      "Epoca: 4/30: loss = 0.3041514\n",
      "Epoca: 4/30: acuratete pe setul de testare = 92.0100%\n",
      "\n",
      "Epoca: 5/30: loss = 0.3008507\n",
      "Epoca: 5/30: acuratete pe setul de testare = 91.8500%\n",
      "\n",
      "Epoca: 6/30: loss = 0.2988359\n",
      "Epoca: 6/30: acuratete pe setul de testare = 91.9500%\n",
      "\n",
      "Epoca: 7/30: loss = 0.2973001\n",
      "Epoca: 7/30: acuratete pe setul de testare = 92.1500%\n",
      "\n",
      "Epoca: 8/30: loss = 0.2964529\n",
      "Epoca: 8/30: acuratete pe setul de testare = 92.0600%\n",
      "\n",
      "Epoca: 9/30: loss = 0.2954089\n",
      "Epoca: 9/30: acuratete pe setul de testare = 92.0600%\n",
      "\n",
      "Epoca: 10/30: loss = 0.2954034\n",
      "Epoca: 10/30: acuratete pe setul de testare = 91.9800%\n",
      "\n",
      "Epoca: 11/30: loss = 0.2950997\n",
      "Epoca: 11/30: acuratete pe setul de testare = 91.9200%\n",
      "\n",
      "Epoca: 12/30: loss = 0.2946222\n",
      "Epoca: 12/30: acuratete pe setul de testare = 91.9400%\n",
      "\n",
      "Epoca: 13/30: loss = 0.2942698\n",
      "Epoca: 13/30: acuratete pe setul de testare = 92.0300%\n",
      "\n",
      "Epoca: 14/30: loss = 0.2945864\n",
      "Epoca: 14/30: acuratete pe setul de testare = 92.0000%\n",
      "\n",
      "Epoca: 15/30: loss = 0.2941392\n",
      "Epoca: 15/30: acuratete pe setul de testare = 91.8000%\n",
      "\n",
      "Epoca: 16/30: loss = 0.2943810\n",
      "Epoca: 16/30: acuratete pe setul de testare = 92.1400%\n",
      "\n",
      "Epoca: 17/30: loss = 0.2946606\n",
      "Epoca: 17/30: acuratete pe setul de testare = 92.1100%\n",
      "\n",
      "Epoca: 18/30: loss = 0.2943092\n",
      "Epoca: 18/30: acuratete pe setul de testare = 92.0500%\n",
      "\n",
      "Epoca: 19/30: loss = 0.2935989\n",
      "Epoca: 19/30: acuratete pe setul de testare = 92.2000%\n",
      "\n",
      "Epoca: 20/30: loss = 0.2943625\n",
      "Epoca: 20/30: acuratete pe setul de testare = 91.8400%\n",
      "\n",
      "Epoca: 21/30: loss = 0.2942611\n",
      "Epoca: 21/30: acuratete pe setul de testare = 92.0900%\n",
      "\n",
      "Epoca: 22/30: loss = 0.2937201\n",
      "Epoca: 22/30: acuratete pe setul de testare = 91.8000%\n",
      "\n",
      "Epoca: 23/30: loss = 0.2939204\n",
      "Epoca: 23/30: acuratete pe setul de testare = 91.5100%\n",
      "\n",
      "Epoca: 24/30: loss = 0.2943878\n",
      "Epoca: 24/30: acuratete pe setul de testare = 92.0000%\n",
      "\n",
      "Epoca: 25/30: loss = 0.2937386\n",
      "Epoca: 25/30: acuratete pe setul de testare = 92.1000%\n",
      "\n",
      "Epoca: 26/30: loss = 0.2942245\n",
      "Epoca: 26/30: acuratete pe setul de testare = 92.0000%\n",
      "\n",
      "Epoca: 27/30: loss = 0.2940968\n",
      "Epoca: 27/30: acuratete pe setul de testare = 91.9700%\n",
      "\n",
      "Epoca: 28/30: loss = 0.2937580\n",
      "Epoca: 28/30: acuratete pe setul de testare = 92.1200%\n",
      "\n",
      "Epoca: 29/30: loss = 0.2941421\n",
      "Epoca: 29/30: acuratete pe setul de testare = 92.0700%\n",
      "\n",
      "Epoca: 30/30: loss = 0.2940616\n",
      "Epoca: 30/30: acuratete pe setul de testare = 91.9500%\n",
      "\n"
     ]
    }
   ],
   "source": [
    "losses = []\n",
    "accuracies = []\n",
    "for epoch in range(epochs):\n",
    "    # modelul trebuie trecut in modul train inainte de a se face instruirea lui\n",
    "    # trecerea lui pe modul eval apare la apelul metodei de test()\n",
    "    model.train()\n",
    "    epoch_loss = 0\n",
    "    total_items = 0\n",
    "    for x, y in train_loader:\n",
    "        # trecem datele din setul de antrenare pe acelasi device ca si modelul\n",
    "        x, y = x.to(device), y.to(device)\n",
    "        \n",
    "        # stergem gradientii calculati anterior, altfel se face acumulare e gradienti - nu e de interes pt acest model\n",
    "        model.zero_grad()\n",
    "        \n",
    "        # modelul prezice probabilitatile conditionate pentru minibatchul curent\n",
    "        y_hat = torch.squeeze(model(x))\n",
    "        \n",
    "        # se calculeaza functia de eroare pe minibatchul curent\n",
    "        loss = loss_fn(y_hat, y.long())\n",
    "        # loss-ul calculat este media valorii de eroare peste minibatchul curent; \n",
    "        # inmultim media cu numarul de valori din minibatch pentru a determina valoarea cumulata \n",
    "        # a erorii pe minibatch\n",
    "        epoch_loss += loss.item() * len(x)\n",
    "        # actualizam numarul total de valori peset care s-a facut invatarea\n",
    "        total_items += len(x)\n",
    "        \n",
    "        # cerem calcul de gradienti\n",
    "        loss.backward()\n",
    "        \n",
    "        # optimizatorul aplica gradientii pe ponderi = invatare\n",
    "        optimizer.step()\n",
    "    \n",
    "    epoch_loss /= total_items\n",
    "    losses.append(epoch_loss)\n",
    "    # afisam statistici\n",
    "    print(f'Epoca: {epoch+1}/{epochs}: loss = {epoch_loss:.7f}')\n",
    "    acc_test = test(model, test_loader, device)\n",
    "    accuracies.append(acc_test)\n",
    "    print(f'Epoca: {epoch + 1}/{epochs}: acuratete pe setul de testare = {acc_test * 100:.4f}%\\n')"
   ]
  },
  {
   "cell_type": "code",
   "execution_count": 14,
   "id": "ef8c636d",
   "metadata": {},
   "outputs": [],
   "source": [
    "import os\n",
    "os.environ[\"KMP_DUPLICATE_LIB_OK\"]=\"TRUE\""
   ]
  },
  {
   "cell_type": "code",
   "execution_count": 15,
   "id": "e2bfbc59",
   "metadata": {},
   "outputs": [
    {
     "data": {
      "image/png": "[encoded data removed]",
      "text/plain": [
       "<Figure size 640x480 with 1 Axes>"
      ]
     },
     "metadata": {},
     "output_type": "display_data"
    }
   ],
   "source": [
    "plt.plot(losses)\n",
    "plt.xlabel('Epoca')\n",
    "plt.ylabel('Eroare')\n",
    "plt.title(f'Valoarea functiei de eroare in timpul instruirii')\n",
    "plt.show()"
   ]
  },
  {
   "cell_type": "code",
   "execution_count": 16,
   "id": "c81a354d",
   "metadata": {},
   "outputs": [
    {
     "data": {
      "image/png": "[encoded data removed]",
      "text/plain": [
       "<Figure size 640x480 with 1 Axes>"
      ]
     },
     "metadata": {},
     "output_type": "display_data"
    }
   ],
   "source": [
    "plt.plot(accuracies)\n",
    "plt.xlabel('Epoca')\n",
    "plt.ylabel('Acuratete pe setul de testare')\n",
    "plt.title(f'Acuratetea pe setul de testare')\n",
    "plt.show()"
   ]
  },
  {
   "cell_type": "code",
   "execution_count": 17,
   "id": "c76b9598",
   "metadata": {},
   "outputs": [
    {
     "name": "stdout",
     "output_type": "stream",
     "text": [
      "[[ 962    0    1    1    0    3    8    2    3    0]\n",
      " [   0 1106    2    2    1    2    4    2   16    0]\n",
      " [   6    6  913   14   15    4   13   13   43    5]\n",
      " [   3    0   23  907    0   29    2   15   25    6]\n",
      " [   1    1    2    1  939    0   11    2   10   15]\n",
      " [  10    1    3   34   13  760   16   11   39    5]\n",
      " [  13    3    4    1   13   10  907    2    5    0]\n",
      " [   1    7   24    6   12    0    0  955    3   20]\n",
      " [   6    4    6   13   11   21   11   11  886    5]\n",
      " [   9    5    2    9   72    5    0   34   13  860]]\n"
     ]
    }
   ],
   "source": [
    "from sklearn.metrics import confusion_matrix\n",
    "\n",
    "\n",
    "model.eval()\n",
    "all_labels = []\n",
    "all_predictions = []\n",
    "\n",
    "for x, y in test_loader:\n",
    "    x, y = x.to(device), y.to(device)\n",
    "    y_hat = model(x)\n",
    "    predicted_class = torch.argmax(y_hat,dim=1) \n",
    "\n",
    "    all_labels.extend(y.cpu().numpy())\n",
    "    all_predictions.extend(predicted_class.cpu().numpy())\n",
    "cm=confusion_matrix(all_labels,all_predictions)\n",
    "\n",
    "print(cm)"
   ]
  },
  {
   "cell_type": "code",
   "execution_count": null,
   "id": "d8098531",
   "metadata": {},
   "outputs": [],
   "source": []
  }
 ],
 "metadata": {
  "kernelspec": {
   "display_name": "Python 3 (ipykernel)",
   "language": "python",
   "name": "python3"
  },
  "language_info": {
   "codemirror_mode": {
    "name": "ipython",
    "version": 3
   },
   "file_extension": ".py",
   "mimetype": "text/x-python",
   "name": "python",
   "nbconvert_exporter": "python",
   "pygments_lexer": "ipython3",
   "version": "3.11.5"
  }
 },
 "nbformat": 4,
 "nbformat_minor": 5
}
