{
 "cells": [
  {
   "cell_type": "code",
   "execution_count": 1,
   "id": "c5464758-6948-4bb7-88c6-ed0a37ad7f01",
   "metadata": {},
   "outputs": [
    {
     "name": "stdout",
     "output_type": "stream",
     "text": [
      "Numpy version: 1.26.4\n"
     ]
    }
   ],
   "source": [
    "import numpy as np\n",
    "print(f'Numpy version: {np.__version__}')\n",
    "# Numpy version: 1.26.3"
   ]
  },
  {
   "cell_type": "markdown",
   "id": "0ae82add",
   "metadata": {},
   "source": [
    "(1 p) 1. Se dă un vector NumPy de valori numerice. Să se determine lista elementelor care au mai mult de o aparitie. Includeti verificare cu assert pentru 2 cazuri particulare date de voi."
   ]
  },
  {
   "cell_type": "code",
   "execution_count": 39,
   "id": "784b0a1a",
   "metadata": {
    "ExecuteTime": {
     "end_time": "2023-10-12T04:19:59.524486Z",
     "start_time": "2023-10-12T04:19:59.524486Z"
    }
   },
   "outputs": [],
   "source": [
    "\"\"\"\n",
    "se creeaza un dictionar in care se numara toate de cate ori apare fiecare numar\n",
    ":param vec: array-ul pe care se face verificarea\n",
    ":return: se returneaza un array cu numerele cu mai mult de o aparitie\n",
    "\"\"\"\n",
    "\n",
    "def Unique_elements(vec: np.array) -> np.ndarray:\n",
    "    dictionary: dict = {}\n",
    "    for value in vec:\n",
    "        if value in dictionary:\n",
    "            dictionary[value] += 1\n",
    "        else:\n",
    "            dictionary[value] = 1\n",
    "    return [key for key, val in dictionary.items() if val > 1]\n",
    "\n",
    "vec1 = np.array([1, 1, 1, 1, 2, 3, 3, 3, 5, 4, 5, 4, 3, 1, 9, 10])\n",
    "assert set(Unique_elements(vec1)) == set([1,3, 4, 5])\n",
    "\n",
    "vec2 = np.array([10, 20, 20, 30, 40, 50, 50, 50])\n",
    "assert set(Unique_elements(vec2)) == set([20, 50])"
   ]
  },
  {
   "cell_type": "markdown",
   "id": "79b97fcd-b049-482c-92e2-3e7a5cbb4a4d",
   "metadata": {},
   "source": [
    "(1p) 2. Sa se scrie o functie care primeste ca parametru o matrice de numere in virgula mobila si doua numere n si M. Functia va returna ca rezultat o matrice care are pe pozitiile de minim valoarea m si pe cele de maxim valoarea M. Matricea originara nu se va modifica. "
   ]
  },
  {
   "cell_type": "code",
   "execution_count": 44,
   "id": "a472f1dc-e913-4dbf-9d3b-fff03cc03d42",
   "metadata": {},
   "outputs": [],
   "source": [
    "\n",
    "\n",
    "def replace_min_max(a: np.ndarray, m: float, M: float) -> np.ndarray:\n",
    "    \"\"\"\n",
    "    Se creeaza o copie pentru a mentine matricea originara nemodificata.\n",
    "    Se inlocuiesc toate instantele celei mai mici valori din a_copy cu m si cele mai mari cu M\n",
    "    :param a: matricea originara\n",
    "    :param m: numarul cu care inlocuim minimele\n",
    "    :param M: numarul cu care inlocuim maximele\n",
    "    :return: se returneaza matricea pe care s-au efectuat schimbarile\n",
    "    \"\"\"\n",
    "    a_copy = a.copy()\n",
    "    a_copy[a_copy == a_copy.min()] = m\n",
    "    a_copy[a_copy == a_copy.max()] = M\n",
    "    return a_copy\n",
    "    \n",
    "a = np.random.rand(100, 200) * 10  # a e matrice cu valori in [0, 10)\n",
    "replaced_a = replace_min_max(a, -10, 10)\n",
    "assert id(a) != id(replaced_a)\n",
    "assert np.min(replaced_a) == -10 and np.max(replaced_a) == 10"
   ]
  },
  {
   "cell_type": "markdown",
   "id": "b35950a6",
   "metadata": {
    "ExecuteTime": {
     "end_time": "2023-10-12T04:14:17.117916Z",
     "start_time": "2023-10-12T04:14:17.111994Z"
    }
   },
   "source": [
    "(1p) 3. Folosind functia `np.convolve`, sa se determine media alunecatoare (moving average) pentru un vector de 100000 de numere aleatoare; lungimea ferestrei alunecatore se da ca parametru al functiei construite de voi. Comparati rezultatele si viteza de executie cu a functiei `naive_moving_average`.\n",
    "\n",
    "Referinte:\n",
    "1. [Moving average](https://en.wikipedia.org/wiki/Moving_average)\n",
    "1. [np.convolve: How to Use Numpy convolve() Method](https://appdividend.com/2022/10/14/np-convolve/)"
   ]
  },
  {
   "cell_type": "code",
   "execution_count": null,
   "id": "78e83fab",
   "metadata": {},
   "outputs": [],
   "source": [
    "\"\"\"\n",
    "def moving_average_fast(x, w):  # de adnotat, docstring\n",
    "    assert x.ndim == 1, 'One dimension numpy array'\n",
    "    assert w > 1, 'Average of at least two values'\n",
    "    ...\n",
    "    return ...\n",
    "\n",
    "def naive_moving_average(x, w): # de adnotat, docstring\n",
    "    assert x.ndim == 1, 'One dimension numpy array'\n",
    "    assert w > 1, 'Average of at least two values'\n",
    "    result = np.zeros(x.shape[0]-w+1)\n",
    "    for i in range(x.shape[0]-w+1):\n",
    "        result[i] = np.mean(x[i:i+w])\n",
    "    return result\n",
    "\n",
    "len_vec, w = 10000, 10\n",
    "x = np.random.rand(len_vec)\n",
    "\n",
    "a = moving_average_fast(x, w)\n",
    "b = naive_moving_average(x, w)\n",
    "\n",
    "assert len(a) == len(b), 'The two methods should return vectors of the same lengths'\n",
    "assert np.allclose(a, b), 'The two methods should return close vectors'\n",
    "\n",
    "%timeit moving_average_fast(x, w)\n",
    "%timeit naive_moving_average(x, w)"
   ]
  },
  {
   "cell_type": "markdown",
   "id": "2b5b312d-cdf6-40c2-a4be-bf911723d51e",
   "metadata": {},
   "source": [
    "(1p) 4. Sa se scrie o functie care primeste o matrice si doua valori t si T, t<T. Sa se inlocuiasca toate valorile mai mici decat t cu t, toate valorile mai mari decat T cu T. Modificarile se vor face direct pe matricea data ca argument."
   ]
  },
  {
   "cell_type": "code",
   "execution_count": 53,
   "id": "9cab8fe3-b718-4518-b7a4-279f9175a229",
   "metadata": {},
   "outputs": [
    {
     "name": "stdout",
     "output_type": "stream",
     "text": [
      "<class 'numpy.ndarray'>\n"
     ]
    }
   ],
   "source": [
    "def trim_matrix(a: np.ndarray, t: float, T: float) -> np.ndarray: \n",
    "    \"\"\"\n",
    "    Se creeaza matricea booleana care are valori true daca se indeplineste conditia din paranteza. In cazul acesta,\n",
    "    daca valoarea este mai mica decat t sau mai mare decat T. Daca da, se inlocuiesc cu t sau T.\n",
    "    :param a: matricea pe care se lucreaza\n",
    "    :param t: numarul cu care se inlocuiesc valori mai mici decat el\n",
    "    :param T: numarul cu care se inlocuiesc valori mai mari decat el\n",
    "    :return: matricea modificata\n",
    "    \"\"\"\n",
    "    assert type(a) == np.ndarray and a.ndim == 2, 'It should be a matrix'\n",
    "    a[a < t] = t\n",
    "    a[a > T] = T\n",
    "    return a\n",
    "\n",
    "a = np.random.rand(300, 2000) * 10  # a e matrice cu valori in [0, 10)\n",
    "t, T = 2, 9\n",
    "result = trim_matrix(a, t=t, T=T)\n",
    "assert id(a) == id(result)\n",
    "assert np.min(result) == t and np.max(result) == T"
   ]
  },
  {
   "cell_type": "markdown",
   "id": "6924d5d0-7ffa-4c10-842f-c1ce92fae110",
   "metadata": {},
   "source": [
    "(1p) 5. Se da un vector de numere naturale. Sa se gaseasca toate numerele pare care sunt urmate de numere impare. \n",
    "\n",
    "Exemplu: pentru [4, 12, 73, 11, 8, 3, 10, 19] raspunsul este [12, 8, 10]."
   ]
  },
  {
   "cell_type": "code",
   "execution_count": 56,
   "id": "97e291e9-b7a3-4c6b-acdb-7fd16a63cecb",
   "metadata": {},
   "outputs": [
    {
     "name": "stdout",
     "output_type": "stream",
     "text": [
      "2.75 s ± 11.6 ms per loop (mean ± std. dev. of 7 runs, 1 loop each)\n",
      "113 ms ± 428 µs per loop (mean ± std. dev. of 7 runs, 10 loops each)\n"
     ]
    }
   ],
   "source": [
    "def find_places(v: np.ndarray) -> np.ndarray: \n",
    "    \"\"\"\n",
    "    Se creeaza doi vectori (par/impar) care sunt parcursi simultan incepand de la 1, respectiv de la 2, pentru\n",
    "    a verifica simultan daca indeplinesc conditia: primul par, al doilea impar\n",
    "    :param v: vectorul pe care se face verificarea\n",
    "    :return: elementele cerute sub forma de vector\n",
    "    \"\"\"\n",
    "    par:np.ndarray = v%2 == 0\n",
    "    impar:np.ndarray = v%2 == 1\n",
    "    return v[np.where(par[:-1] & impar[1:])]\n",
    "\n",
    "def find_places_slow(v: np.ndarray) -> np.ndarray:  # TODO add docstrings, annotations\n",
    "    places = [x for x, y in zip(v[:-1], v[1:]) if x % 2 == 0 and y % 2 == 1]\n",
    "    return np.array(places)\n",
    "    \n",
    "# fixed test\n",
    "v_test = np.array([4, 12, 73, 11, 8, 3, 10, 19])\n",
    "assert np.all([12, 8, 10] == find_places(v_test))\n",
    "assert np.all([12, 8, 10] == find_places_slow(v_test))\n",
    "\n",
    "# random test\n",
    "n = 10000000\n",
    "v_test = np.random.randint(0, 1000, n)\n",
    "assert np.all(find_places_slow(v_test) == find_places(v_test))\n",
    "\n",
    "%timeit find_places_slow(v_test)\n",
    "%timeit find_places(v_test)"
   ]
  },
  {
   "cell_type": "markdown",
   "id": "53e07cb9-0a59-4588-aaee-20b48d6270c0",
   "metadata": {},
   "source": [
    "(1p) 6. Se da o matrice de numere intregi. Sa se determine ce linii contin macar o valoare suficient de apropiata de un argument x dat. Doua valori reale x si y sunt suficient de apropiate daca $|x-y| < eps$, $eps$ parametru dat. "
   ]
  },
  {
   "cell_type": "code",
   "execution_count": 61,
   "id": "73f8267f-bf00-498e-8c44-5357abaf4add",
   "metadata": {},
   "outputs": [],
   "source": [
    "def k_nearest_rows(mat: np.ndarray, x: np.float32, eps: np.float32) -> np.ndarray:\n",
    "    \"\"\"\n",
    "    Se cauta in matricea primita valoarea cea mai apropiata de x, folosind cautarea pe coloane (axis = 1), diferenta\n",
    "    absoluta dintre elementele din mat si x sa fie < eps, urmand a fi folosit np.any pentru a returna un array\n",
    "    boolean care are valoarea true daca se gaseste un rand cu valoarea apropiata de x si np.where pentru a gasi\n",
    "    indexul acelui rand.\n",
    "    :param mat: matricea de numere intregi\n",
    "    :param x: numarul a carui valoare apropiata o cautam\n",
    "    :param eps: diferenta maxima pana la x\n",
    "    :return: se returneaza un vector care coontine elementele cerute\n",
    "    \"\"\"\n",
    "    a = np.where(np.any(np.abs(mat-x) < eps, axis = 1))[0]\n",
    "    return a\n",
    "\n",
    "mat = np.array([[9, 12, 3, 7, 12], [3, 10, 2, 6, 4], [18, 24, 6, 17, 11], [15, 21, 8, 13, 12], [1, 18, 4, 22, 15]], dtype=np.float32)\n",
    "x, eps = 12, 1e-5\n",
    "assert np.all([0, 3] == k_nearest_rows(mat, x, eps))"
   ]
  },
  {
   "cell_type": "markdown",
   "id": "d37a9834-eef6-4120-ab38-7e1ac142bd5e",
   "metadata": {},
   "source": [
    "(1p) 7. Sa se determine valorile care apar de mai mult de k ori intr-un vector. "
   ]
  },
  {
   "cell_type": "code",
   "execution_count": 29,
   "id": "41aa0c62-a0e9-4bc0-beb4-6b6d9510e8be",
   "metadata": {},
   "outputs": [
    {
     "name": "stdout",
     "output_type": "stream",
     "text": [
      "[1, 2, 1, 2, 3, 4, 1, 2, 3, 4, 5, 5, 5, 5]\n",
      "{1: 3, 2: 3, 3: 2, 4: 2, 5: 4}\n",
      "{1: 3, 2: 3, 3: 2, 4: 2, 5: 4}\n"
     ]
    }
   ],
   "source": [
    "def find_repeated(v: np.ndarray, k: int) -> np.ndarray:\n",
    "    \"\"\"\n",
    "    se creeaza un dictionar in care se numara elementele din array, iar apoi sunt returnate cheile a caror\n",
    "    valori indeplinesc conditia\n",
    "    :param v: vectorul primit\n",
    "    :param k: numarul minim de aparitii al unui element din vector\n",
    "    :return: se returneaza un vector cu toate elementele care indeplinesc conditia\n",
    "    \"\"\"\n",
    "    dictionary:dict = {}\n",
    "    for value in v:\n",
    "        if value in dictionary:\n",
    "            dictionary[value] += 1\n",
    "        else:\n",
    "            dictionary[value] = 1\n",
    "    print(dictionary)\n",
    "    return np.array([key for key, val in dictionary.items() if val > k])\n",
    "\n",
    "\n",
    "v = [1, 2] + [1, 2, 3, 4] * 2 + [5] * 4\n",
    "print(v)\n",
    "assert np.all(find_repeated(v, 2) == [1, 2, 5])\n",
    "assert np.all(find_repeated(v, 3) == [5])"
   ]
  },
  {
   "cell_type": "markdown",
   "id": "23aac3c2-8a01-43be-a321-fd1895d49c82",
   "metadata": {
    "execution": {
     "iopub.execute_input": "2024-03-07T16:30:58.778850Z",
     "iopub.status.busy": "2024-03-07T16:30:58.778850Z",
     "iopub.status.idle": "2024-03-07T16:30:58.786024Z",
     "shell.execute_reply": "2024-03-07T16:30:58.785065Z",
     "shell.execute_reply.started": "2024-03-07T16:30:58.778850Z"
    }
   },
   "source": [
    "(1p) 8. Se da un vector v si un numar x. Sa se determine cel mai apropiat numar din v de x. Daca sunt mai multe cele mai apropiate, se va returna oricare. "
   ]
  },
  {
   "cell_type": "code",
   "execution_count": 62,
   "id": "e6001d1c-b463-422f-9b87-f407520c4eff",
   "metadata": {},
   "outputs": [],
   "source": [
    "from typing import Union\n",
    "\n",
    "def find_closest(v: np.ndarray, x: np.float64) -> Union[np.float32, np.float64]:\n",
    "    \"\"\"\n",
    "    Se creeaza o lista cu diferentele absolute dintre elementele din v si x, din care se selecteaza\n",
    "    indexul celui mai mic dintre ele folosind argmin\n",
    "    :param v: vectorul din care se cauta elementul\n",
    "    :param x: elementul fata de care se cauta diferenta minima absoluta in v\n",
    "    :return: se returneaza elementul cu diferenta minima fata de x\n",
    "    \"\"\"\n",
    "    return v[np.abs(v-x).argmin()]\n",
    "\n",
    "v = np.arange(100)\n",
    "np.random.shuffle(v)\n",
    "x = 6.8\n",
    "assert find_closest(v, x) == 7"
   ]
  },
  {
   "cell_type": "code",
   "execution_count": null,
   "id": "6927c597-b965-4fca-bb74-b49597c5db6c",
   "metadata": {},
   "outputs": [],
   "source": []
  }
 ],
 "metadata": {
  "kernelspec": {
   "display_name": "Python 3 (ipykernel)",
   "language": "python",
   "name": "python3"
  },
  "language_info": {
   "codemirror_mode": {
    "name": "ipython",
    "version": 3
   },
   "file_extension": ".py",
   "mimetype": "text/x-python",
   "name": "python",
   "nbconvert_exporter": "python",
   "pygments_lexer": "ipython3",
   "version": "3.11.5"
  },
  "toc": {
   "base_numbering": 1,
   "nav_menu": {},
   "number_sections": true,
   "sideBar": true,
   "skip_h1_title": false,
   "title_cell": "Table of Contents",
   "title_sidebar": "Contents",
   "toc_cell": false,
   "toc_position": {},
   "toc_section_display": true,
   "toc_window_display": false
  },
  "varInspector": {
   "cols": {
    "lenName": 16,
    "lenType": 16,
    "lenVar": 40
   },
   "kernels_config": {
    "python": {
     "delete_cmd_postfix": "",
     "delete_cmd_prefix": "del ",
     "library": "var_list.py",
     "varRefreshCmd": "print(var_dic_list())"
    },
    "r": {
     "delete_cmd_postfix": ") ",
     "delete_cmd_prefix": "rm(",
     "library": "var_list.r",
     "varRefreshCmd": "cat(var_dic_list()) "
    }
   },
   "types_to_exclude": [
    "module",
    "function",
    "builtin_function_or_method",
    "instance",
    "_Feature"
   ],
   "window_display": false
  },
  "widgets": {
   "application/vnd.jupyter.widget-state+json": {
    "state": {},
    "version_major": 2,
    "version_minor": 0
   }
  }
 },
 "nbformat": 4,
 "nbformat_minor": 5
}
